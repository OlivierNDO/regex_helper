{
 "cells": [
  {
   "cell_type": "markdown",
   "id": "af683f2c",
   "metadata": {},
   "source": [
    "### Imports & Configuration"
   ]
  },
  {
   "cell_type": "code",
   "execution_count": 1,
   "id": "c3e3942f",
   "metadata": {},
   "outputs": [],
   "source": [
    "from src import regex_helper as rh"
   ]
  },
  {
   "cell_type": "markdown",
   "id": "98a98b42",
   "metadata": {},
   "source": [
    "### Example Usage"
   ]
  },
  {
   "cell_type": "markdown",
   "id": "791acb7c",
   "metadata": {},
   "source": [
    "United States phone number "
   ]
  },
  {
   "cell_type": "markdown",
   "id": "0eb95eab",
   "metadata": {},
   "source": [
    "> Optional country code"
   ]
  },
  {
   "cell_type": "code",
   "execution_count": 2,
   "id": "ea96797a",
   "metadata": {},
   "outputs": [
    {
     "name": "stdout",
     "output_type": "stream",
     "text": [
      "re.compile('(?:(?:\\\\+)?\\\\s*1\\\\s*)?')\n"
     ]
    }
   ],
   "source": [
    "country_code =  rh.combine_patterns_all(\n",
    "    rh.make_optional(r'\\+'),\n",
    "    rh.optional_whitespace(),\n",
    "    '1',\n",
    "    rh.optional_whitespace()\n",
    ")\n",
    "\n",
    "optional_country_code = rh.make_optional(country_code)\n",
    "print(optional_country_code)"
   ]
  },
  {
   "cell_type": "markdown",
   "id": "280abced",
   "metadata": {},
   "source": [
    "> Area code"
   ]
  },
  {
   "cell_type": "code",
   "execution_count": 3,
   "id": "4ea94961",
   "metadata": {},
   "outputs": [
    {
     "name": "stdout",
     "output_type": "stream",
     "text": [
      "re.compile('(?:\\\\()?\\\\d{3}(?:\\\\))?')\n"
     ]
    }
   ],
   "source": [
    "area_code = rh.combine_patterns_all(\n",
    "    rh.make_optional(r'\\('),\n",
    "    rh.n_digits(3),\n",
    "    rh.make_optional(r'\\)'),\n",
    ")\n",
    "print(area_code)"
   ]
  },
  {
   "cell_type": "markdown",
   "id": "8c613b38",
   "metadata": {},
   "source": [
    "> First 3 digits, last 4 digits"
   ]
  },
  {
   "cell_type": "code",
   "execution_count": 4,
   "id": "c9c240b3",
   "metadata": {},
   "outputs": [],
   "source": [
    "first_three = rh.n_digits(3)\n",
    "last_four = rh.n_digits(3)"
   ]
  },
  {
   "cell_type": "markdown",
   "id": "7454cdfd",
   "metadata": {},
   "source": [
    "> Combine into one pattern"
   ]
  },
  {
   "cell_type": "code",
   "execution_count": 5,
   "id": "77acc8ca",
   "metadata": {},
   "outputs": [],
   "source": [
    "space_or_dash = rh.combine_patterns_any(rh.optional_whitespace(), r'\\-')\n",
    "\n",
    "us_phone_number = rh.combine_patterns_all(\n",
    "    optional_country_code,\n",
    "    space_or_dash,\n",
    "    area_code,\n",
    "    space_or_dash,\n",
    "    first_three,\n",
    "    space_or_dash,\n",
    "    last_four\n",
    ")"
   ]
  },
  {
   "cell_type": "markdown",
   "id": "cac24a29",
   "metadata": {},
   "source": [
    "> Test it"
   ]
  },
  {
   "cell_type": "code",
   "execution_count": 6,
   "id": "67d0b862",
   "metadata": {},
   "outputs": [
    {
     "name": "stdout",
     "output_type": "stream",
     "text": [
      "Contains match: \"Call 1 (800) 555-5555 please\"\n",
      "Contains match: \"Toll free at +1 9999999999\"\n",
      "Contains match: \"Toll free at +1 (999)-999 9999\"\n"
     ]
    }
   ],
   "source": [
    "str_list = ['Call 1 (800) 555-5555 please',\n",
    "            'Toll free at +1 9999999999',\n",
    "            'Toll free at +1 (999)-999 9999']\n",
    "\n",
    "for s in str_list:\n",
    "    s_contains_match = rh.contains_match(s, us_phone_number)\n",
    "    if s_contains_match:\n",
    "        print(f'Contains match: \"{s}\"')\n",
    "    else:\n",
    "        print(f'Does not contain match: \"{s}\"')"
   ]
  },
  {
   "cell_type": "markdown",
   "id": "834b9c22",
   "metadata": {},
   "source": [
    "<End date | Final date | last date> + <optional is|was|will be> + YYYY-MM-DD "
   ]
  },
  {
   "cell_type": "code",
   "execution_count": 7,
   "id": "5ca146f3",
   "metadata": {},
   "outputs": [
    {
     "name": "stdout",
     "output_type": "stream",
     "text": [
      "Contains match: \"tournament end date: 2023-04-12\"\n",
      "Contains match: \"the last date is 2022-12-31\"\n",
      "Contains match: \"my final date will be 2019-01-02\"\n",
      "Does not contain match: \"my birthday is 2024-01-04\"\n"
     ]
    }
   ],
   "source": [
    "end_or_final_or_last_date = rh.combine_patterns_any(\n",
    "    'End Date',\n",
    "    'Final Date',\n",
    "    'Last Date',\n",
    "    case_sensitive = False\n",
    ")\n",
    "\n",
    "is_or_was_or_will_be = rh.combine_patterns_any(\n",
    "    'is',\n",
    "    'was',\n",
    "    'will be',\n",
    "    case_sensitive = False\n",
    ")\n",
    "\n",
    "optional_is_or_was_or_will_be = rh.make_optional(is_or_was_or_will_be)\n",
    "\n",
    "\n",
    "end_date_pattern = rh.combine_patterns_all(\n",
    "    end_or_final_or_last_date,\n",
    "    rh.optional_whitespace(),\n",
    "    optional_is_or_was_or_will_be,\n",
    "    rh.optional_whitespace(),\n",
    "    rh.optional_word(':'),\n",
    "    rh.optional_whitespace(),\n",
    "    rh.n_digits(4),\n",
    "    '-',\n",
    "    rh.n_digits(2),\n",
    "    '-',\n",
    "    rh.n_digits(2),\n",
    "    case_sensitive = False\n",
    ")\n",
    "\n",
    "my_str_list = ['tournament end date: 2023-04-12',\n",
    "               'the last date is 2022-12-31',\n",
    "               'my final date will be 2019-01-02',\n",
    "               'my birthday is 2024-01-04']\n",
    "\n",
    "\n",
    "for s in my_str_list:\n",
    "    s_contains_match = rh.contains_match(s, end_date_pattern)\n",
    "    if s_contains_match:\n",
    "        print(f'Contains match: \"{s}\"')\n",
    "    else:\n",
    "        print(f'Does not contain match: \"{s}\"')"
   ]
  },
  {
   "cell_type": "code",
   "execution_count": null,
   "id": "81867750",
   "metadata": {},
   "outputs": [],
   "source": []
  },
  {
   "cell_type": "code",
   "execution_count": null,
   "id": "b42b6207",
   "metadata": {},
   "outputs": [],
   "source": []
  },
  {
   "cell_type": "code",
   "execution_count": null,
   "id": "0feea114",
   "metadata": {},
   "outputs": [],
   "source": []
  }
 ],
 "metadata": {
  "@webio": {
   "lastCommId": null,
   "lastKernelId": null
  },
  "kernelspec": {
   "display_name": "Python 3 (ipykernel)",
   "language": "python",
   "name": "python3"
  },
  "language_info": {
   "codemirror_mode": {
    "name": "ipython",
    "version": 3
   },
   "file_extension": ".py",
   "mimetype": "text/x-python",
   "name": "python",
   "nbconvert_exporter": "python",
   "pygments_lexer": "ipython3",
   "version": "3.9.7"
  }
 },
 "nbformat": 4,
 "nbformat_minor": 5
}
