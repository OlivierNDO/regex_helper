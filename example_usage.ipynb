{
 "cells": [
  {
   "cell_type": "markdown",
   "id": "fd4ca418",
   "metadata": {},
   "source": [
    "### Imports & Configuration"
   ]
  },
  {
   "cell_type": "code",
   "execution_count": 2,
   "id": "3207ed1f",
   "metadata": {},
   "outputs": [],
   "source": [
    "from src import regex_helper as rh"
   ]
  },
  {
   "cell_type": "markdown",
   "id": "dcec8104",
   "metadata": {},
   "source": [
    "### Example Usage"
   ]
  },
  {
   "cell_type": "markdown",
   "id": "c6c36b16",
   "metadata": {},
   "source": [
    "Area code"
   ]
  },
  {
   "cell_type": "code",
   "execution_count": 3,
   "id": "0c662bbc",
   "metadata": {},
   "outputs": [
    {
     "data": {
      "text/plain": [
       "['area code 504', 'area code is 210']"
      ]
     },
     "execution_count": 3,
     "metadata": {},
     "output_type": "execute_result"
    }
   ],
   "source": [
    "area_code_pattern = rh.combine_patterns_all(\n",
    "    'area code',\n",
    "    rh.optional_whitespace(),\n",
    "    rh.optional_word('is'),\n",
    "    rh.optional_whitespace(),\n",
    "    rh.n_digits(3)\n",
    ")\n",
    "\n",
    "my_str = \"\"\"\n",
    "The area code 504 is New Orleans\n",
    "My area code is 210\n",
    "\"\"\"\n",
    "    \n",
    "rh.get_all_matches(my_str, area_code_pattern)"
   ]
  },
  {
   "cell_type": "markdown",
   "id": "c5493678",
   "metadata": {},
   "source": [
    "<End date | Final date | last date> + <optional is|was|will be> + YYYY-MM-DD "
   ]
  },
  {
   "cell_type": "code",
   "execution_count": 8,
   "id": "105758a1",
   "metadata": {},
   "outputs": [
    {
     "name": "stdout",
     "output_type": "stream",
     "text": [
      "Contains match: \"tournament end date: 2023-04-12\"\n",
      "Contains match: \"the last date is 2022-12-31\"\n",
      "Contains match: \"my final date will be 2019-01-02\"\n",
      "Does not contain match: \"my birthday is 2024-01-04\"\n"
     ]
    }
   ],
   "source": [
    "end_or_final_or_last_date = rh.combine_patterns_any(\n",
    "    'End Date',\n",
    "    'Final Date',\n",
    "    'Last Date',\n",
    "    case_sensitive = False\n",
    ")\n",
    "\n",
    "is_or_was_or_will_be = rh.combine_patterns_any(\n",
    "    'is',\n",
    "    'was',\n",
    "    'will be',\n",
    "    case_sensitive = False\n",
    ")\n",
    "\n",
    "optional_is_or_was_or_will_be = rh.make_optional(is_or_was_or_will_be)\n",
    "\n",
    "\n",
    "end_date_pattern = rh.combine_patterns_all(\n",
    "    end_or_final_or_last_date,\n",
    "    rh.optional_whitespace(),\n",
    "    optional_is_or_was_or_will_be,\n",
    "    rh.optional_whitespace(),\n",
    "    rh.optional_word(':'),\n",
    "    rh.optional_whitespace(),\n",
    "    rh.n_digits(4),\n",
    "    '-',\n",
    "    rh.n_digits(2),\n",
    "    '-',\n",
    "    rh.n_digits(2),\n",
    "    case_sensitive = False\n",
    ")\n",
    "\n",
    "my_str_list = ['tournament end date: 2023-04-12',\n",
    "               'the last date is 2022-12-31',\n",
    "               'my final date will be 2019-01-02',\n",
    "               'my birthday is 2024-01-04']\n",
    "\n",
    "\n",
    "for s in my_str_list:\n",
    "    s_contains_match = rh.contains_match(s, end_date_pattern)\n",
    "    if s_contains_match:\n",
    "        print(f'Contains match: \"{s}\"')\n",
    "    else:\n",
    "        print(f'Does not contain match: \"{s}\"')"
   ]
  },
  {
   "cell_type": "code",
   "execution_count": null,
   "id": "e3b5ec8c",
   "metadata": {},
   "outputs": [],
   "source": []
  },
  {
   "cell_type": "code",
   "execution_count": null,
   "id": "2177b517",
   "metadata": {},
   "outputs": [],
   "source": []
  },
  {
   "cell_type": "code",
   "execution_count": null,
   "id": "fcb9ab8e",
   "metadata": {},
   "outputs": [],
   "source": []
  }
 ],
 "metadata": {
  "@webio": {
   "lastCommId": null,
   "lastKernelId": null
  },
  "kernelspec": {
   "display_name": "Python 3 (ipykernel)",
   "language": "python",
   "name": "python3"
  },
  "language_info": {
   "codemirror_mode": {
    "name": "ipython",
    "version": 3
   },
   "file_extension": ".py",
   "mimetype": "text/x-python",
   "name": "python",
   "nbconvert_exporter": "python",
   "pygments_lexer": "ipython3",
   "version": "3.9.7"
  }
 },
 "nbformat": 4,
 "nbformat_minor": 5
}
